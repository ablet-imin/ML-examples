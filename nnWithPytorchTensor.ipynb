{
 "cells": [
  {
   "cell_type": "code",
   "execution_count": 10,
   "metadata": {},
   "outputs": [],
   "source": [
    "#need only pytorch\n",
    "import torch\n",
    "import numpy as np\n",
    "\n",
    "dtype = torch.float\n",
    "device = torch.device(\"cpu\")\n",
    "\n",
    "#N is batch size (or length of input data)\n",
    "#D is dimention, H is the demention of hiden layer\n",
    "\n",
    "N , D_in, H, D_out = 64, 200, 100, 2\n",
    "\n",
    "#generate input data and label\n",
    "x = torch.randn(N, D_in, device=device, dtype=dtype)\n",
    "y = torch.from_numpy(np.random.randint(D_out, size=(N,D_out)))\n",
    "\n",
    "w1 = torch.randn(D_in, H, device=device, dtype=dtype)\n",
    "w2 = torch.randn(H, D_out, device=device, dtype=dtype)\n",
    "\n",
    "learning_rate=1.e-6"
   ]
  },
  {
   "cell_type": "code",
   "execution_count": 20,
   "metadata": {},
   "outputs": [
    {
     "name": "stdout",
     "output_type": "stream",
     "text": [
      "0 0.05964255332946777\n",
      "10 0.05142245069146156\n",
      "20 0.04433124512434006\n",
      "30 0.03821498155593872\n",
      "40 0.03296583145856857\n",
      "50 0.028427686542272568\n",
      "60 0.02452280931174755\n",
      "70 0.021170079708099365\n",
      "80 0.018275566399097443\n",
      "90 0.01578528620302677\n"
     ]
    }
   ],
   "source": [
    "for t in range(100):\n",
    "    h = x.mm(w1)\n",
    "    h_relu = h.clamp(0)\n",
    "    y_pred = h_relu.mm(w2)\n",
    "    \n",
    "    loss = (y_pred-y).pow(2).sum().item()\n",
    "    if t%10 ==0:\n",
    "        print(t, loss)\n",
    "    #backward\n",
    "    grad_y_pred = 2.*(y_pred-y)\n",
    "    grad_w2 = h_relu.t().mm(grad_y_pred)\n",
    "    grad_h_relu = grad_y_pred.mm(w2.t())\n",
    "    grad_h = grad_h_relu.clone()\n",
    "    grad_h[h<0] = 0\n",
    "    grad_w1 = x.t().mm(grad_h)\n",
    "    \n",
    "    w1 -= learning_rate*grad_w1\n",
    "    w2 -= learning_rate*grad_w2"
   ]
  },
  {
   "cell_type": "code",
   "execution_count": null,
   "metadata": {},
   "outputs": [],
   "source": []
  },
  {
   "cell_type": "code",
   "execution_count": null,
   "metadata": {},
   "outputs": [],
   "source": []
  }
 ],
 "metadata": {
  "kernelspec": {
   "display_name": "Python 3",
   "language": "python",
   "name": "python3"
  },
  "language_info": {
   "codemirror_mode": {
    "name": "ipython",
    "version": 3
   },
   "file_extension": ".py",
   "mimetype": "text/x-python",
   "name": "python",
   "nbconvert_exporter": "python",
   "pygments_lexer": "ipython3",
   "version": "3.7.4"
  }
 },
 "nbformat": 4,
 "nbformat_minor": 4
}
